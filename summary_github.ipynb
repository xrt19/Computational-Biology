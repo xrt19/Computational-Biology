{
  "cells": [
    {
      "cell_type": "code",
      "execution_count": 1,
      "metadata": {
        "colab": {
          "base_uri": "https://localhost:8080/"
        },
        "id": "1GdZ2JftP6iU",
        "outputId": "d9fe619e-e3b8-4a9e-a74c-0058df263694"
      },
      "outputs": [
        {
          "name": "stdout",
          "output_type": "stream",
          "text": [
            "Collecting Bio\n",
            "  Downloading bio-1.7.1-py3-none-any.whl.metadata (5.7 kB)\n",
            "Collecting biopython>=1.80 (from Bio)\n",
            "  Downloading biopython-1.84-cp312-cp312-macosx_10_9_x86_64.whl.metadata (12 kB)\n",
            "Collecting gprofiler-official (from Bio)\n",
            "  Downloading gprofiler_official-1.0.0-py3-none-any.whl.metadata (11 kB)\n",
            "Collecting mygene (from Bio)\n",
            "  Downloading mygene-3.2.2-py2.py3-none-any.whl.metadata (10 kB)\n",
            "Requirement already satisfied: pandas in /opt/anaconda3/lib/python3.12/site-packages (from Bio) (2.2.2)\n",
            "Collecting pooch (from Bio)\n",
            "  Downloading pooch-1.8.2-py3-none-any.whl.metadata (10 kB)\n",
            "Requirement already satisfied: requests in /opt/anaconda3/lib/python3.12/site-packages (from Bio) (2.32.2)\n",
            "Requirement already satisfied: tqdm in /opt/anaconda3/lib/python3.12/site-packages (from Bio) (4.66.4)\n",
            "Requirement already satisfied: numpy in /opt/anaconda3/lib/python3.12/site-packages (from biopython>=1.80->Bio) (1.26.4)\n",
            "Collecting biothings-client>=0.2.6 (from mygene->Bio)\n",
            "  Downloading biothings_client-0.3.1-py2.py3-none-any.whl.metadata (9.8 kB)\n",
            "Requirement already satisfied: python-dateutil>=2.8.2 in /opt/anaconda3/lib/python3.12/site-packages (from pandas->Bio) (2.9.0.post0)\n",
            "Requirement already satisfied: pytz>=2020.1 in /opt/anaconda3/lib/python3.12/site-packages (from pandas->Bio) (2024.1)\n",
            "Requirement already satisfied: tzdata>=2022.7 in /opt/anaconda3/lib/python3.12/site-packages (from pandas->Bio) (2023.3)\n",
            "Requirement already satisfied: platformdirs>=2.5.0 in /opt/anaconda3/lib/python3.12/site-packages (from pooch->Bio) (3.10.0)\n",
            "Requirement already satisfied: packaging>=20.0 in /opt/anaconda3/lib/python3.12/site-packages (from pooch->Bio) (23.2)\n",
            "Requirement already satisfied: charset-normalizer<4,>=2 in /opt/anaconda3/lib/python3.12/site-packages (from requests->Bio) (2.0.4)\n",
            "Requirement already satisfied: idna<4,>=2.5 in /opt/anaconda3/lib/python3.12/site-packages (from requests->Bio) (3.7)\n",
            "Requirement already satisfied: urllib3<3,>=1.21.1 in /opt/anaconda3/lib/python3.12/site-packages (from requests->Bio) (2.2.2)\n",
            "Requirement already satisfied: certifi>=2017.4.17 in /opt/anaconda3/lib/python3.12/site-packages (from requests->Bio) (2024.8.30)\n",
            "Requirement already satisfied: six>=1.5 in /opt/anaconda3/lib/python3.12/site-packages (from python-dateutil>=2.8.2->pandas->Bio) (1.16.0)\n",
            "Downloading bio-1.7.1-py3-none-any.whl (280 kB)\n",
            "\u001b[2K   \u001b[90m━━━━━━━━━━━━━━━━━━━━━━━━━━━━━━━━━━━━━━━━\u001b[0m \u001b[32m281.0/281.0 kB\u001b[0m \u001b[31m1.9 MB/s\u001b[0m eta \u001b[36m0:00:00\u001b[0ma \u001b[36m0:00:01\u001b[0m\n",
            "\u001b[?25hDownloading biopython-1.84-cp312-cp312-macosx_10_9_x86_64.whl (2.8 MB)\n",
            "\u001b[2K   \u001b[90m━━━━━━━━━━━━━━━━━━━━━━━━━━━━━━━━━━━━━━━━\u001b[0m \u001b[32m2.8/2.8 MB\u001b[0m \u001b[31m4.6 MB/s\u001b[0m eta \u001b[36m0:00:00\u001b[0m00:01\u001b[0m00:01\u001b[0m\n",
            "\u001b[?25hDownloading gprofiler_official-1.0.0-py3-none-any.whl (9.3 kB)\n",
            "Downloading mygene-3.2.2-py2.py3-none-any.whl (5.4 kB)\n",
            "Downloading pooch-1.8.2-py3-none-any.whl (64 kB)\n",
            "\u001b[2K   \u001b[90m━━━━━━━━━━━━━━━━━━━━━━━━━━━━━━━━━━━━━━━━\u001b[0m \u001b[32m64.6/64.6 kB\u001b[0m \u001b[31m2.4 MB/s\u001b[0m eta \u001b[36m0:00:00\u001b[0m\n",
            "\u001b[?25hDownloading biothings_client-0.3.1-py2.py3-none-any.whl (29 kB)\n",
            "Installing collected packages: biopython, pooch, gprofiler-official, biothings-client, mygene, Bio\n",
            "Successfully installed Bio-1.7.1 biopython-1.84 biothings-client-0.3.1 gprofiler-official-1.0.0 mygene-3.2.2 pooch-1.8.2\n",
            "Note: you may need to restart the kernel to use updated packages.\n",
            "Requirement already satisfied: matplotlib in /opt/anaconda3/lib/python3.12/site-packages (3.8.4)\n",
            "Requirement already satisfied: contourpy>=1.0.1 in /opt/anaconda3/lib/python3.12/site-packages (from matplotlib) (1.2.0)\n",
            "Requirement already satisfied: cycler>=0.10 in /opt/anaconda3/lib/python3.12/site-packages (from matplotlib) (0.11.0)\n",
            "Requirement already satisfied: fonttools>=4.22.0 in /opt/anaconda3/lib/python3.12/site-packages (from matplotlib) (4.51.0)\n",
            "Requirement already satisfied: kiwisolver>=1.3.1 in /opt/anaconda3/lib/python3.12/site-packages (from matplotlib) (1.4.4)\n",
            "Requirement already satisfied: numpy>=1.21 in /opt/anaconda3/lib/python3.12/site-packages (from matplotlib) (1.26.4)\n",
            "Requirement already satisfied: packaging>=20.0 in /opt/anaconda3/lib/python3.12/site-packages (from matplotlib) (23.2)\n",
            "Requirement already satisfied: pillow>=8 in /opt/anaconda3/lib/python3.12/site-packages (from matplotlib) (10.3.0)\n",
            "Requirement already satisfied: pyparsing>=2.3.1 in /opt/anaconda3/lib/python3.12/site-packages (from matplotlib) (3.0.9)\n",
            "Requirement already satisfied: python-dateutil>=2.7 in /opt/anaconda3/lib/python3.12/site-packages (from matplotlib) (2.9.0.post0)\n",
            "Requirement already satisfied: six>=1.5 in /opt/anaconda3/lib/python3.12/site-packages (from python-dateutil>=2.7->matplotlib) (1.16.0)\n",
            "Note: you may need to restart the kernel to use updated packages.\n"
          ]
        }
      ],
      "source": [
        "%pip install Bio\n",
        "%pip install matplotlib"
      ]
    },
    {
      "cell_type": "code",
      "execution_count": 2,
      "metadata": {
        "id": "ilvJChZJP9Wh"
      },
      "outputs": [],
      "source": [
        "import Bio\n",
        "from Bio.Seq import Seq"
      ]
    },
    {
      "cell_type": "code",
      "execution_count": 3,
      "metadata": {},
      "outputs": [],
      "source": [
        "from Bio import SeqIO"
      ]
    },
    {
      "cell_type": "code",
      "execution_count": 4,
      "metadata": {},
      "outputs": [
        {
          "data": {
            "text/plain": [
              "Seq('ATTAAAGGTTTATACCTTCCCAGGTAACAAACCAACCAACTTTCGATCTCTTGT...AAA')"
            ]
          },
          "execution_count": 4,
          "metadata": {},
          "output_type": "execute_result"
        }
      ],
      "source": [
        "file_fasta = SeqIO.read('5_sequence.fasta', 'fasta').seq\n",
        "file_fasta\n"
      ]
    },
    {
      "cell_type": "code",
      "execution_count": 5,
      "metadata": {},
      "outputs": [
        {
          "data": {
            "text/plain": [
              "Seq('ATTAAAGGTTTATACCTTCCCAGGTAACAAACCAACCAACTTTCGATCTCTTGT...AAA')"
            ]
          },
          "execution_count": 5,
          "metadata": {},
          "output_type": "execute_result"
        }
      ],
      "source": [
        "file_gb = SeqIO.read(\"5_sequence.gb\", \"gb\").seq\n",
        "\n",
        "file_gb"
      ]
    },
    {
      "cell_type": "code",
      "execution_count": 6,
      "metadata": {
        "id": "KBbXIiWlP6iX"
      },
      "outputs": [],
      "source": [
        "# Given sequence\n",
        "# Sequence A:\n",
        "# AGCTTGCAGCGTCCGTTAGCTCGAGTCCAGGACGTTAGTCCTGCAGTC\n",
        "# Sequence B:\n",
        "# CAGTAAGTTGCCGTTAGCGCGTAGTGCCAGTAAGCGGCTCGTTAGTGG"
      ]
    },
    {
      "cell_type": "code",
      "execution_count": 7,
      "metadata": {
        "id": "je98mQEAQZ3W"
      },
      "outputs": [],
      "source": [
        "seq_a = Seq('AGCTTGCAGCGTCCGTTAGCTCGAGTCCAGGACGTTAGTCCTGCAGTC')\n",
        "seq_b = Seq('CAGTAAGTTGCCGTTAGCGCGTAGTGCCAGTAAGCGGCTCGTTAGTGG')"
      ]
    },
    {
      "cell_type": "code",
      "execution_count": 8,
      "metadata": {
        "colab": {
          "base_uri": "https://localhost:8080/"
        },
        "id": "3u-u9V4cP6iX",
        "outputId": "63182707-215c-42ab-8522-8cf9d0a16184"
      },
      "outputs": [
        {
          "name": "stdout",
          "output_type": "stream",
          "text": [
            "48\n",
            "48\n"
          ]
        }
      ],
      "source": [
        "# Find the length of both sequences.\n",
        "print(len(seq_a))\n",
        "print(len(seq_a))"
      ]
    },
    {
      "cell_type": "code",
      "execution_count": 9,
      "metadata": {
        "colab": {
          "base_uri": "https://localhost:8080/"
        },
        "id": "XDV7vUMBP6iY",
        "outputId": "21756d36-9635-46a2-d09c-54221c58db1a"
      },
      "outputs": [
        {
          "name": "stdout",
          "output_type": "stream",
          "text": [
            "0\n",
            "1\n"
          ]
        }
      ],
      "source": [
        "# Determine the number of times the codon (CGC) appears in both sequences\n",
        "print(seq_a.count('CGC'))\n",
        "print(seq_b.count('CGC'))"
      ]
    },
    {
      "cell_type": "code",
      "execution_count": 10,
      "metadata": {
        "colab": {
          "base_uri": "https://localhost:8080/"
        },
        "id": "Fv8uhoBrP6iZ",
        "outputId": "aa168b66-2660-49e0-ff6e-a358fbfa01c6"
      },
      "outputs": [
        {
          "name": "stdout",
          "output_type": "stream",
          "text": [
            "43\n",
            "-1\n"
          ]
        }
      ],
      "source": [
        "# Locate the first occurrence index position of the sub-sequence (CAGTC)\n",
        "# in both sequences.\n",
        "print(seq_a.find('CAGTC'))\n",
        "print(seq_b.find('CAGTC'))"
      ]
    },
    {
      "cell_type": "code",
      "execution_count": 11,
      "metadata": {
        "colab": {
          "base_uri": "https://localhost:8080/"
        },
        "id": "gk_uTWdgP6ia",
        "outputId": "68c81b17-747d-407f-804d-e51929b8ce63"
      },
      "outputs": [
        {
          "name": "stdout",
          "output_type": "stream",
          "text": [
            "AGCTTGCAGCGTCCGTCGTTAGTGG\n"
          ]
        }
      ],
      "source": [
        "# Combine the first 15 nucleotides from sequence A\n",
        "# and the last 10 nucleotides from sequence B\n",
        "# to create a new DNA sequence called sequence C.\n",
        "seq_c = seq_a[ : 15] + seq_b[-10 : ]\n",
        "print(seq_c)"
      ]
    },
    {
      "cell_type": "code",
      "execution_count": 12,
      "metadata": {
        "colab": {
          "base_uri": "https://localhost:8080/"
        },
        "id": "DzD6OjbrP6ia",
        "outputId": "302e7cae-1846-4ce8-b4e8-33de207124ab"
      },
      "outputs": [
        {
          "name": "stdout",
          "output_type": "stream",
          "text": [
            "GGTGATTGCTGCCTGCGACGTTCGA\n"
          ]
        }
      ],
      "source": [
        "# Reverse the sequence of sequence C.\n",
        "seq_c = seq_c[ : : -1]\n",
        "print(seq_c)"
      ]
    },
    {
      "cell_type": "code",
      "execution_count": 13,
      "metadata": {
        "id": "TQBpipvKP6ib"
      },
      "outputs": [],
      "source": [
        "# Plot the nucleotide base\n",
        "# (A, C, G, T)  for the sequence A\n",
        "# AT for sequence B,\n",
        "# GC for sequence C\n",
        "import matplotlib.pyplot as plt\n",
        "from collections import Counter"
      ]
    },
    {
      "cell_type": "code",
      "execution_count": 14,
      "metadata": {
        "colab": {
          "base_uri": "https://localhost:8080/",
          "height": 447
        },
        "id": "V7toEc-RY6MF",
        "outputId": "16660a9a-1e4b-4cb0-a38f-45c6656c6591"
      },
      "outputs": [
        {
          "name": "stdout",
          "output_type": "stream",
          "text": [
            "Counter({'G': 14, 'C': 14, 'T': 12, 'A': 8})\n"
          ]
        },
        {
          "data": {
            "image/png": "[encoded data removed]",
            "text/plain": [
              "<Figure size 640x480 with 1 Axes>"
            ]
          },
          "metadata": {},
          "output_type": "display_data"
        }
      ],
      "source": [
        "# (A, C, G, T)  for the sequence A\n",
        "freq_a = Counter(seq_a)\n",
        "print(freq_a)\n",
        "\n",
        "plt.bar(freq_a.keys(), freq_a.values())\n",
        "plt.show()"
      ]
    },
    {
      "cell_type": "code",
      "execution_count": 15,
      "metadata": {
        "colab": {
          "base_uri": "https://localhost:8080/",
          "height": 447
        },
        "id": "yibJuY-mZWij",
        "outputId": "47bcfd5a-015d-418b-89e5-421cc8b37869"
      },
      "outputs": [
        {
          "name": "stdout",
          "output_type": "stream",
          "text": [
            "Counter({'G': 17, 'T': 12, 'C': 10, 'A': 9})\n"
          ]
        },
        {
          "data": {
            "image/png": "[encoded data removed]",
            "text/plain": [
              "<Figure size 640x480 with 1 Axes>"
            ]
          },
          "metadata": {},
          "output_type": "display_data"
        }
      ],
      "source": [
        "# AT for sequence B,\n",
        "freq_b = Counter(seq_b)\n",
        "print(freq_b)\n",
        "\n",
        "plt.bar(['A', 'T'], [freq_b['A'], freq_b['T']])\n",
        "plt.show()"
      ]
    },
    {
      "cell_type": "code",
      "execution_count": 16,
      "metadata": {
        "colab": {
          "base_uri": "https://localhost:8080/",
          "height": 447
        },
        "id": "m1e6TxdiZqrC",
        "outputId": "bc6c55f8-2d16-48d9-b4eb-6c94a110d0e7"
      },
      "outputs": [
        {
          "name": "stdout",
          "output_type": "stream",
          "text": [
            "Counter({'G': 9, 'T': 7, 'C': 6, 'A': 3})\n"
          ]
        },
        {
          "data": {
            "image/png": "[encoded data removed]",
            "text/plain": [
              "<Figure size 640x480 with 1 Axes>"
            ]
          },
          "metadata": {},
          "output_type": "display_data"
        }
      ],
      "source": [
        "# GC for sequence C\n",
        "freq_c = Counter(seq_c)\n",
        "print(freq_c)\n",
        "\n",
        "plt.bar(['G', 'C'], [freq_c['G'], freq_c['C']])\n",
        "plt.show()"
      ]
    },
    {
      "cell_type": "code",
      "execution_count": 17,
      "metadata": {
        "colab": {
          "base_uri": "https://localhost:8080/"
        },
        "id": "L707wHScP6ic",
        "outputId": "dbb486fc-5424-436e-a1c4-4e34410d48ed"
      },
      "outputs": [
        {
          "name": "stdout",
          "output_type": "stream",
          "text": [
            "['A', 0, 7, 17, 23, 28, 31, 36, 44]\n"
          ]
        }
      ],
      "source": [
        "# Cari 'A' ketemu di index berapa aja di seq A\n",
        "from Bio.SeqUtils import nt_search\n",
        "\n",
        "print(nt_search(str(seq_a), 'A'))"
      ]
    },
    {
      "cell_type": "code",
      "execution_count": 18,
      "metadata": {
        "id": "FH1X4pYzP6id"
      },
      "outputs": [],
      "source": [
        "# Calculate the GC and AT content of sequence A\n",
        "\n",
        "from Bio.SeqUtils import molecular_weight as mw, MeltingTemp as mt"
      ]
    },
    {
      "cell_type": "code",
      "execution_count": 19,
      "metadata": {
        "colab": {
          "base_uri": "https://localhost:8080/"
        },
        "id": "zdjIaTGBP6ie",
        "outputId": "fea3f35d-a4c5-413c-9319-c00ebfff5c0b"
      },
      "outputs": [
        {
          "name": "stdout",
          "output_type": "stream",
          "text": [
            "71.31956873864458\n",
            "152.0\n",
            "73.44322665093074\n"
          ]
        }
      ],
      "source": [
        "# Refer to the Wallace rule to calculate the melting point of sequence A,\n",
        "# serta neigbor dan gc\n",
        "print(mt.Tm_GC(seq_a))\n",
        "print(mt.Tm_Wallace(seq_a))\n",
        "print(mt.Tm_NN(seq_a))"
      ]
    },
    {
      "cell_type": "code",
      "execution_count": 20,
      "metadata": {
        "colab": {
          "base_uri": "https://localhost:8080/"
        },
        "id": "zKYZdvukP6if",
        "outputId": "818b4099-16db-48c5-9be6-5088aefc79c7"
      },
      "outputs": [
        {
          "name": "stdout",
          "output_type": "stream",
          "text": [
            "14831.413499999999\n"
          ]
        }
      ],
      "source": [
        "# Cari molecular weight\n",
        "print(mw(seq_a))"
      ]
    },
    {
      "cell_type": "code",
      "execution_count": 21,
      "metadata": {
        "colab": {
          "base_uri": "https://localhost:8080/"
        },
        "id": "dXIuZL0nP6ig",
        "outputId": "422a48e2-c027-4c0b-a7b9-27d0197b4e99"
      },
      "outputs": [
        {
          "name": "stdout",
          "output_type": "stream",
          "text": [
            "GGUGAUUGCUGCCUGCGACGUUCGA\n",
            "GDCCLRRS\n"
          ]
        },
        {
          "name": "stderr",
          "output_type": "stream",
          "text": [
            "/opt/anaconda3/lib/python3.12/site-packages/Bio/Seq.py:2879: BiopythonWarning: Partial codon, len(sequence) not a multiple of three. Explicitly trim the sequence or add trailing N before translation. This may become an error in future.\n",
            "  warnings.warn(\n"
          ]
        }
      ],
      "source": [
        "# Ubah seq c jadi mRNA dan ubah dari mRNA ke amino acid,\n",
        "# kemudian back transcribe\n",
        "mRNA_c = seq_c.transcribe()\n",
        "print(mRNA_c)\n",
        "\n",
        "amino_acid_c = mRNA_c.translate()\n",
        "print(amino_acid_c)"
      ]
    },
    {
      "cell_type": "code",
      "execution_count": 22,
      "metadata": {
        "colab": {
          "base_uri": "https://localhost:8080/"
        },
        "id": "Vm6ft4Hrft1x",
        "outputId": "9ce0eaff-b581-4e11-e0df-e6b359513cda"
      },
      "outputs": [
        {
          "name": "stderr",
          "output_type": "stream",
          "text": [
            "/opt/anaconda3/lib/python3.12/site-packages/Bio/pairwise2.py:278: BiopythonDeprecationWarning: Bio.pairwise2 has been deprecated, and we intend to remove it in a future release of Biopython. As an alternative, please consider using Bio.Align.PairwiseAligner as a replacement, and contact the Biopython developers if you still need the Bio.pairwise2 module.\n",
            "  warnings.warn(\n"
          ]
        }
      ],
      "source": [
        "from Bio import pairwise2"
      ]
    },
    {
      "cell_type": "code",
      "execution_count": 23,
      "metadata": {
        "colab": {
          "base_uri": "https://localhost:8080/"
        },
        "id": "M2m47L_HP6ih",
        "outputId": "36f57b0f-05dc-43c7-b9a0-9486a17b1706"
      },
      "outputs": [
        {
          "name": "stdout",
          "output_type": "stream",
          "text": [
            "22.0\n"
          ]
        }
      ],
      "source": [
        "# Cari local alignment seq a dan seq b, serra tunjukkan score\n",
        "local = pairwise2.align.localxx(seq_b, seq_c, score_only=True)\n",
        "print(local)"
      ]
    },
    {
      "cell_type": "code",
      "execution_count": 24,
      "metadata": {
        "colab": {
          "base_uri": "https://localhost:8080/"
        },
        "id": "qbGf_jhtP6ih",
        "outputId": "3083e61a-62b5-45b1-cf9e-0dce24fdaa14"
      },
      "outputs": [
        {
          "name": "stdout",
          "output_type": "stream",
          "text": [
            "22.0\n"
          ]
        }
      ],
      "source": [
        "# Cari global alignment seq a dan seq b, serra tunjukkan score\n",
        "_global = pairwise2.align.globalxx(seq_b, seq_c, score_only=True)\n",
        "print(_global)"
      ]
    },
    {
      "cell_type": "code",
      "execution_count": 25,
      "metadata": {
        "colab": {
          "base_uri": "https://localhost:8080/"
        },
        "id": "ph8i8epvP6ii",
        "outputId": "39f00a22-af48-4113-ed7c-28d17d73fa2a"
      },
      "outputs": [
        {
          "name": "stdout",
          "output_type": "stream",
          "text": [
            "19\n"
          ]
        }
      ],
      "source": [
        "# Hamming Distance antara seq a dan seq c\n",
        "def foo(seq_1, seq_2):\n",
        "  counter = 0\n",
        "\n",
        "  for i, j in zip(seq_1, seq_2):\n",
        "    if i != j:\n",
        "      counter += 1\n",
        "\n",
        "  return counter\n",
        "\n",
        "print(foo(seq_a, seq_c))"
      ]
    },
    {
      "cell_type": "code",
      "execution_count": 26,
      "metadata": {
        "colab": {
          "base_uri": "https://localhost:8080/"
        },
        "id": "vPJv76b8P6ij",
        "outputId": "12bc92e5-e6d4-471c-8f7e-54992550be68"
      },
      "outputs": [
        {
          "name": "stdout",
          "output_type": "stream",
          "text": [
            "Collecting python-Levenshtein\n",
            "  Downloading python_Levenshtein-0.26.0-py3-none-any.whl.metadata (3.7 kB)\n",
            "Collecting Levenshtein==0.26.0 (from python-Levenshtein)\n",
            "  Downloading levenshtein-0.26.0.tar.gz (374 kB)\n",
            "\u001b[2K     \u001b[90m━━━━━━━━━━━━━━━━━━━━━━━━━━━━━━━━━━━━━━━\u001b[0m \u001b[32m374.3/374.3 kB\u001b[0m \u001b[31m2.0 MB/s\u001b[0m eta \u001b[36m0:00:00\u001b[0m00:01\u001b[0m00:01\u001b[0m\n",
            "\u001b[?25h  Installing build dependencies ... \u001b[?25ldone\n",
            "\u001b[?25h  Getting requirements to build wheel ... \u001b[?25ldone\n",
            "\u001b[?25h  Installing backend dependencies ... \u001b[?25ldone\n",
            "\u001b[?25h  Preparing metadata (pyproject.toml) ... \u001b[?25ldone\n",
            "\u001b[?25hCollecting rapidfuzz<4.0.0,>=3.9.0 (from Levenshtein==0.26.0->python-Levenshtein)\n",
            "  Downloading rapidfuzz-3.10.0-cp312-cp312-macosx_10_13_x86_64.whl.metadata (11 kB)\n",
            "Downloading python_Levenshtein-0.26.0-py3-none-any.whl (9.4 kB)\n",
            "Downloading rapidfuzz-3.10.0-cp312-cp312-macosx_10_13_x86_64.whl (2.0 MB)\n",
            "\u001b[2K   \u001b[90m━━━━━━━━━━━━━━━━━━━━━━━━━━━━━━━━━━━━━━━━\u001b[0m \u001b[32m2.0/2.0 MB\u001b[0m \u001b[31m3.9 MB/s\u001b[0m eta \u001b[36m0:00:00\u001b[0m00:01\u001b[0m00:01\u001b[0m\n",
            "\u001b[?25hBuilding wheels for collected packages: Levenshtein\n",
            "  Building wheel for Levenshtein (pyproject.toml) ... \u001b[?25ldone\n",
            "\u001b[?25h  Created wheel for Levenshtein: filename=levenshtein-0.26.0-cp312-cp312-macosx_10_16_x86_64.whl size=124397 sha256=2258a7b64390d2747bc5dd13555e524a072c0495f4924bba0e917982e52620b1\n",
            "  Stored in directory: /Users/irfanheranurrohman/Library/Caches/pip/wheels/55/62/87/4aad4c92373357dc5841529daf2055f5a17d42f41d887b3e64\n",
            "Successfully built Levenshtein\n",
            "Installing collected packages: rapidfuzz, Levenshtein, python-Levenshtein\n",
            "Successfully installed Levenshtein-0.26.0 python-Levenshtein-0.26.0 rapidfuzz-3.10.0\n"
          ]
        }
      ],
      "source": [
        "# Levenshtein distance antara seq a dan seq c\n",
        "!pip install python-Levenshtein"
      ]
    },
    {
      "cell_type": "code",
      "execution_count": 27,
      "metadata": {
        "id": "aTILj4NMbKHN"
      },
      "outputs": [],
      "source": [
        "import Levenshtein"
      ]
    },
    {
      "cell_type": "code",
      "execution_count": 28,
      "metadata": {
        "colab": {
          "base_uri": "https://localhost:8080/"
        },
        "id": "sJeXwCeOfALf",
        "outputId": "5f2134c7-0acf-4281-d122-cd567e758bfd"
      },
      "outputs": [
        {
          "data": {
            "text/plain": [
              "27"
            ]
          },
          "execution_count": 28,
          "metadata": {},
          "output_type": "execute_result"
        }
      ],
      "source": [
        "from Levenshtein import distance\n",
        "distance(seq_a, seq_c)"
      ]
    }
  ],
  "metadata": {
    "colab": {
      "provenance": []
    },
    "kernelspec": {
      "display_name": "Python 3",
      "language": "python",
      "name": "python3"
    },
    "language_info": {
      "codemirror_mode": {
        "name": "ipython",
        "version": 3
      },
      "file_extension": ".py",
      "mimetype": "text/x-python",
      "name": "python",
      "nbconvert_exporter": "python",
      "pygments_lexer": "ipython3",
      "version": "3.12.4"
    }
  },
  "nbformat": 4,
  "nbformat_minor": 0
}
